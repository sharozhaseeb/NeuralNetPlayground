{
  "cells": [
    {
      "cell_type": "code",
      "execution_count": 12,
      "metadata": {
        "id": "q1_4n0BqFB3v"
      },
      "outputs": [],
      "source": [
        "import torch\n",
        "import torchvision\n",
        "import torchvision.transforms as transforms"
      ]
    },
    {
      "cell_type": "markdown",
      "source": [
        "### Load and normalize dataset"
      ],
      "metadata": {
        "id": "rgSqfe6LMW48"
      }
    },
    {
      "cell_type": "code",
      "execution_count": 13,
      "metadata": {
        "id": "gNOSCp0zFB3x",
        "outputId": "a52cb95c-5015-40c7-b2a0-3339b26d6874",
        "colab": {
          "base_uri": "https://localhost:8080/"
        }
      },
      "outputs": [
        {
          "output_type": "stream",
          "name": "stdout",
          "text": [
            "Files already downloaded and verified\n",
            "Files already downloaded and verified\n"
          ]
        }
      ],
      "source": [
        "transform = transforms.Compose(\n",
        "    [transforms.ToTensor(),\n",
        "     transforms.Normalize((0.5, 0.5, 0.5), (0.5, 0.5, 0.5))])\n",
        "\n",
        "batch_size = 8\n",
        "\n",
        "trainset = torchvision.datasets.CIFAR10(root='./data', train=True,\n",
        "                                        download=True, transform=transform)\n",
        "trainloader = torch.utils.data.DataLoader(trainset, batch_size=batch_size,\n",
        "                                          shuffle=True, num_workers=2)\n",
        "\n",
        "testset = torchvision.datasets.CIFAR10(root='./data', train=False,\n",
        "                                       download=True, transform=transform)\n",
        "testloader = torch.utils.data.DataLoader(testset, batch_size=batch_size,\n",
        "                                         shuffle=False, num_workers=2)\n",
        "\n",
        "classes = ('plane', 'car', 'bird', 'cat',\n",
        "           'deer', 'dog', 'frog', 'horse', 'ship', 'truck')"
      ]
    },
    {
      "cell_type": "markdown",
      "metadata": {
        "id": "NtEjwT2yFB3y"
      },
      "source": [
        "### 2. Convolutional Neural Network\n",
        "\n"
      ]
    },
    {
      "cell_type": "code",
      "execution_count": 18,
      "metadata": {
        "id": "OvTdihg_FB3y"
      },
      "outputs": [],
      "source": [
        "import torch.nn as nn\n",
        "import torch.nn.functional as F\n",
        "\n",
        "\n",
        "class Net(nn.Module):\n",
        "    def __init__(self):\n",
        "        super().__init__()\n",
        "        self.conv1 = nn.Conv2d(3, 6, 5) #This layer has 3 input channels (e.g., for RGB images), 6 output channels, and a kernel size of 5x5\n",
        "        self.pool = nn.MaxPool2d(2, 2) #max-pooling layer with a 2x2 window size and a stride of 2\n",
        "        self.conv2 = nn.Conv2d(6, 16, 5)\n",
        "        self.fc1 = nn.Linear(16 * 5 * 5, 120) #This line creates a fully connected (linear) layer with 16 * 5 * 5 input features (which is the result of flattening the output of the second convolutional layer) and 120 output features.\n",
        "        self.fc2 = nn.Linear(120, 84)\n",
        "        self.fc3 = nn.Linear(84, 10) #output layer has 10 nodes because there are 10 classes in the dataset.\n",
        "\n",
        "    def forward(self, x):\n",
        "        # print(x.size())\n",
        "        x = self.pool(F.relu(self.conv1(x)))\n",
        "        # print(x.size())\n",
        "        x = self.pool(F.relu(self.conv2(x))) #same pool on 2nd convolution\n",
        "        # print(x.size())\n",
        "        x = torch.flatten(x, 1) # flatten all dimensions except batch\n",
        "        # print(x.size())\n",
        "        x = F.relu(self.fc1(x))\n",
        "        # print(x.size())\n",
        "        x = F.relu(self.fc2(x))\n",
        "        # print(x.size())\n",
        "        x = self.fc3(x)\n",
        "        # print(x.size())\n",
        "        return x\n",
        "\n",
        "\n",
        "net = Net()"
      ]
    },
    {
      "cell_type": "markdown",
      "metadata": {
        "id": "KAaJDbWVFB3z"
      },
      "source": [
        "### 3. Loss function and optimizer\n",
        "\n"
      ]
    },
    {
      "cell_type": "code",
      "execution_count": 20,
      "metadata": {
        "id": "SckumtAwFB3z"
      },
      "outputs": [],
      "source": [
        "import torch.optim as optim\n",
        "\n",
        "criterion = nn.CrossEntropyLoss()\n",
        "optimizer = optim.SGD(net.parameters(), lr=0.0001, momentum=0.8)\n",
        "\n",
        "# optimizer = optim.Adam(net.parameters(), lr=0.0001)\n",
        "# optimizer3 = optim.RMSprop(net.parameters(), lr=0.01, alpha=0.9)"
      ]
    },
    {
      "cell_type": "markdown",
      "metadata": {
        "id": "S-ESligRFB3z"
      },
      "source": [
        "### 4. Training\n",
        "\n"
      ]
    },
    {
      "cell_type": "code",
      "execution_count": 21,
      "metadata": {
        "id": "HR738RSDFB3z",
        "outputId": "7c9c577d-9e2d-402a-f39e-86138de69935",
        "colab": {
          "base_uri": "https://localhost:8080/"
        }
      },
      "outputs": [
        {
          "output_type": "stream",
          "name": "stdout",
          "text": [
            "[1,  2000] loss: 2.306\n",
            "[1,  4000] loss: 2.302\n",
            "[1,  6000] loss: 2.300\n",
            "[2,  2000] loss: 2.296\n",
            "[2,  4000] loss: 2.291\n",
            "[2,  6000] loss: 2.284\n",
            "[3,  2000] loss: 2.263\n",
            "[3,  4000] loss: 2.226\n",
            "[3,  6000] loss: 2.173\n",
            "[4,  2000] loss: 2.134\n",
            "[4,  4000] loss: 2.111\n",
            "[4,  6000] loss: 2.091\n",
            "[5,  2000] loss: 2.068\n",
            "[5,  4000] loss: 2.049\n",
            "[5,  6000] loss: 2.015\n",
            "[6,  2000] loss: 1.971\n",
            "[6,  4000] loss: 1.941\n",
            "[6,  6000] loss: 1.917\n",
            "[7,  2000] loss: 1.892\n",
            "[7,  4000] loss: 1.868\n",
            "[7,  6000] loss: 1.841\n",
            "[8,  2000] loss: 1.813\n",
            "[8,  4000] loss: 1.795\n",
            "[8,  6000] loss: 1.761\n",
            "Finished Training\n"
          ]
        }
      ],
      "source": [
        "import matplotlib.pyplot as plt\n",
        "\n",
        "# Initialize an empty list to store the loss values\n",
        "loss_values = []\n",
        "\n",
        "# Training loop\n",
        "for epoch in range(8):  # loop over the dataset multiple times\n",
        "    running_loss = 0.0\n",
        "    for i, data in enumerate(trainloader, 0):\n",
        "        # get the inputs; data is a list of [inputs, labels]\n",
        "        inputs, labels = data\n",
        "\n",
        "        # zero the parameter gradients\n",
        "        optimizer.zero_grad()\n",
        "\n",
        "        # forward + backward + optimize\n",
        "        outputs = net(inputs)\n",
        "        loss = criterion(outputs, labels)\n",
        "        loss.backward()\n",
        "        optimizer.step()\n",
        "\n",
        "        # Store the loss value in the list\n",
        "        running_loss += loss.item()\n",
        "\n",
        "        if i % 2000 == 1999:  # print every 2000 mini-batches\n",
        "            print(f'[{epoch + 1}, {i + 1:5d}] loss: {running_loss / 2000:.3f}')\n",
        "            loss_values.append(running_loss / 2000)  # Append the average loss to the list\n",
        "            running_loss = 0.0\n",
        "\n",
        "\n",
        "print('Finished Training')\n"
      ]
    },
    {
      "cell_type": "code",
      "source": [
        "# Plot the loss values\n",
        "plt.plot(loss_values)\n",
        "plt.title('Training Loss')\n",
        "plt.xlabel('Mini-batch')\n",
        "plt.ylabel('Loss')\n",
        "plt.show()"
      ],
      "metadata": {
        "colab": {
          "base_uri": "https://localhost:8080/",
          "height": 472
        },
        "id": "5VfyY_U9IoLY",
        "outputId": "4c2364a6-a794-4148-8695-8f606c700f1f"
      },
      "execution_count": 22,
      "outputs": [
        {
          "output_type": "display_data",
          "data": {
            "text/plain": [
              "<Figure size 640x480 with 1 Axes>"
            ],
            "image/png": "[encoded data removed]"
          },
          "metadata": {}
        }
      ]
    },
    {
      "cell_type": "code",
      "source": [
        "plt.savefig(\"exp-1.png\")"
      ],
      "metadata": {
        "colab": {
          "base_uri": "https://localhost:8080/",
          "height": 34
        },
        "id": "lq2oNmg2RXex",
        "outputId": "e747043c-3adb-4856-e922-c07411925e2c"
      },
      "execution_count": 19,
      "outputs": [
        {
          "output_type": "display_data",
          "data": {
            "text/plain": [
              "<Figure size 640x480 with 0 Axes>"
            ]
          },
          "metadata": {}
        }
      ]
    },
    {
      "cell_type": "code",
      "execution_count": 7,
      "metadata": {
        "id": "wFIW40WSFB30"
      },
      "outputs": [],
      "source": [
        "PATH = './cifar_net.pth'\n",
        "torch.save(net.state_dict(), PATH)"
      ]
    },
    {
      "cell_type": "code",
      "execution_count": 8,
      "metadata": {
        "id": "1QCPPAkkFB30",
        "outputId": "a1cdbfbf-5076-436d-f469-d8cba15a58e3",
        "colab": {
          "base_uri": "https://localhost:8080/"
        }
      },
      "outputs": [
        {
          "output_type": "execute_result",
          "data": {
            "text/plain": [
              "<All keys matched successfully>"
            ]
          },
          "metadata": {},
          "execution_count": 8
        }
      ],
      "source": [
        "net = Net()\n",
        "net.load_state_dict(torch.load(PATH))"
      ]
    },
    {
      "cell_type": "code",
      "source": [
        "from sklearn.metrics import accuracy_score, precision_score, recall_score, f1_score\n",
        "\n",
        "correct = 0\n",
        "total = 0\n",
        "true_labels = []\n",
        "predicted_labels = []\n",
        "\n",
        "with torch.no_grad():\n",
        "    for data in testloader:\n",
        "        images, labels = data\n",
        "        # calculate outputs by running images through the network\n",
        "        outputs = net(images)\n",
        "        # the class with the highest energy is what we choose as prediction\n",
        "        _, predicted = torch.max(outputs.data, 1)\n",
        "        total += labels.size(0)\n",
        "        correct += (predicted == labels).sum().item()\n",
        "        true_labels.extend(labels.numpy())\n",
        "        predicted_labels.extend(predicted.numpy())\n",
        "\n",
        "accuracy = accuracy_score(true_labels, predicted_labels)\n",
        "precision = precision_score(true_labels, predicted_labels, average='weighted')\n",
        "recall = recall_score(true_labels, predicted_labels, average='weighted')\n",
        "f1 = f1_score(true_labels, predicted_labels, average='weighted')\n",
        "\n",
        "print(f'Accuracy of the network on the test data: {accuracy * 100:.2f}%')\n",
        "print(f'Precision: {precision:.2f}')\n",
        "print(f'Recall: {recall:.2f}')\n",
        "print(f'F1 Score: {f1:.2f}')"
      ],
      "metadata": {
        "colab": {
          "base_uri": "https://localhost:8080/"
        },
        "id": "3GhQUtISNhd2",
        "outputId": "b5cb64d8-a3f1-4b89-f3b4-2095ac308610"
      },
      "execution_count": 23,
      "outputs": [
        {
          "output_type": "stream",
          "name": "stdout",
          "text": [
            "Accuracy of the network on the test data: 37.17%\n",
            "Precision: 0.36\n",
            "Recall: 0.37\n",
            "F1 Score: 0.35\n"
          ]
        }
      ]
    },
    {
      "cell_type": "code",
      "source": [],
      "metadata": {
        "id": "BUyhLYV6CqrS"
      },
      "execution_count": null,
      "outputs": []
    }
  ],
  "metadata": {
    "kernelspec": {
      "display_name": "Python 3",
      "language": "python",
      "name": "python3"
    },
    "language_info": {
      "codemirror_mode": {
        "name": "ipython",
        "version": 3
      },
      "file_extension": ".py",
      "mimetype": "text/x-python",
      "name": "python",
      "nbconvert_exporter": "python",
      "pygments_lexer": "ipython3",
      "version": "3.10.13"
    },
    "colab": {
      "provenance": []
    }
  },
  "nbformat": 4,
  "nbformat_minor": 0
}