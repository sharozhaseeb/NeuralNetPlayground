{
 "cells": [
  {
   "cell_type": "markdown",
   "metadata": {},
   "source": [
    "## Dataset loading"
   ]
  },
  {
   "cell_type": "code",
   "execution_count": 1,
   "metadata": {},
   "outputs": [],
   "source": [
    "import pandas as pd\n",
    "import numpy as np"
   ]
  },
  {
   "cell_type": "code",
   "execution_count": 2,
   "metadata": {},
   "outputs": [],
   "source": [
    "def load_data(csv_file):\n",
    "    data = pd.read_csv(csv_file)\n",
    "    data_col_list = data.columns.to_list()\n",
    "    x_col_list = data_col_list[:-1]\n",
    "    print(f\"Independent Values;\\n{x_col_list}\")\n",
    "\n",
    "    y_col = data_col_list[-1]\n",
    "    #Extract the independent variables (features) into matrix X\n",
    "    X = data[x_col_list].values\n",
    "\n",
    "    #Extract the dependent variable into vector Y\n",
    "    Y = data[y_col].values\n",
    "    print(f\"dependent Values;\\n{y_col}\")\n",
    "    return X, Y\n",
    "\n",
    "\n"
   ]
  },
  {
   "cell_type": "code",
   "execution_count": 3,
   "metadata": {},
   "outputs": [],
   "source": [
    "from sklearn.model_selection import train_test_split\n",
    "\n",
    "def split_data(X, Y, test_size=0.3, random_state=None):\n",
    "    \"\"\"\n",
    "    Split the data into training and test sets.\n",
    "\n",
    "    Args:\n",
    "    X (numpy.ndarray): The independent variables (features).\n",
    "    Y (numpy.ndarray): The dependent variable.\n",
    "    test_size (float): The proportion of data to include in the test split (default is 0.3).\n",
    "    random_state (int or None): Seed for random number generation (optional).\n",
    "\n",
    "    Returns:\n",
    "    X_train (numpy.ndarray): Training data for independent variables.\n",
    "    X_test (numpy.ndarray): Test data for independent variables.\n",
    "    Y_train (numpy.ndarray): Training data for the dependent variable.\n",
    "    Y_test (numpy.ndarray): Test data for the dependent variable.\n",
    "    \"\"\"\n",
    "    X_train, X_test, Y_train, Y_test = train_test_split(X, Y, test_size=test_size, random_state=random_state)\n",
    "    return X_train, X_test, Y_train, Y_test\n",
    "\n"
   ]
  },
  {
   "cell_type": "markdown",
   "metadata": {},
   "source": [
    "## Initialize Parameters"
   ]
  },
  {
   "cell_type": "code",
   "execution_count": 4,
   "metadata": {},
   "outputs": [],
   "source": [
    "def initialize_parameters(N_x, N_h, N_y):\n",
    "    \"\"\"\n",
    "    Initialize parameters (weights and biases) for a neural network with two layers.\n",
    "    \n",
    "    Arguments:\n",
    "    N_x -- Number of input features\n",
    "    N_h -- Number of hidden units in layer 1\n",
    "    N_y -- Number of output units in layer 2\n",
    "    \n",
    "    Returns:\n",
    "    parameters -- A dictionary containing randomly initialized parameters:\n",
    "                    W1 -- Weight matrix of shape (N_h, N_x)\n",
    "                    b1 -- Bias vector of shape (N_h, 1)\n",
    "                    W2 -- Weight matrix of shape (N_y, N_h)\n",
    "                    b2 -- Bias vector of shape (N_y, 1)\n",
    "    \"\"\"\n",
    "    np.random.seed(1)  # Seed for reproducibility\n",
    "    \n",
    "    # Initialize weights and biases for layer 1\n",
    "    W1 = np.random.randn(N_h, N_x) * 0.01\n",
    "    b1 = np.zeros((N_h, 1))\n",
    "    \n",
    "    # Initialize weights and biases for layer 2\n",
    "    W2 = np.random.randn(N_y, N_h) * 0.01\n",
    "    b2 = np.zeros((N_y, 1))\n",
    "    \n",
    "    # Store the parameters in a dictionary\n",
    "    parameters = {\n",
    "        \"W1\": W1,\n",
    "        \"b1\": b1,\n",
    "        \"W2\": W2,\n",
    "        \"b2\": b2\n",
    "    }\n",
    "    \n",
    "    return parameters\n",
    "\n",
    "\n"
   ]
  },
  {
   "cell_type": "markdown",
   "metadata": {},
   "source": [
    "# Activation Function"
   ]
  },
  {
   "cell_type": "code",
   "execution_count": 5,
   "metadata": {},
   "outputs": [],
   "source": [
    "def sigmoid(z):\n",
    "    \"\"\"\n",
    "    Compute the sigmoid activation function for a given input.\n",
    "    \n",
    "    Arguments:\n",
    "    z -- Input value (can be a scalar or a NumPy array)\n",
    "    \n",
    "    Returns:\n",
    "    A -- Output of the sigmoid function, same shape as z\n",
    "    \"\"\"\n",
    "    A = 1 / (1 + np.exp(-z))\n",
    "    return A\n"
   ]
  },
  {
   "cell_type": "code",
   "execution_count": 6,
   "metadata": {},
   "outputs": [],
   "source": [
    "def relu(z):\n",
    "    \"\"\"\n",
    "    Compute the ReLU (Rectified Linear Unit) activation function for a given input.\n",
    "    \n",
    "    Arguments:\n",
    "    z -- Input value (can be a scalar or a NumPy array)\n",
    "    \n",
    "    Returns:\n",
    "    A -- Output of the ReLU function, same shape as z\n",
    "    \"\"\"\n",
    "    A = np.maximum(0, z)\n",
    "    return A\n"
   ]
  },
  {
   "cell_type": "markdown",
   "metadata": {},
   "source": [
    "## Forward Pass"
   ]
  },
  {
   "cell_type": "code",
   "execution_count": 46,
   "metadata": {},
   "outputs": [],
   "source": [
    "import numpy as np\n",
    "\n",
    "def forward_pass(X, parameters):\n",
    "    \"\"\"\n",
    "    Perform the forward pass in a two-layer neural network.\n",
    "    \n",
    "    Arguments:\n",
    "    X -- Input data of shape (input_size, m), where m is the number of examples\n",
    "    parameters -- A dictionary containing the parameters:\n",
    "                    W1 -- Weight matrix of shape (hidden_size, input_size)\n",
    "                    b1 -- Bias vector of shape (hidden_size, 1)\n",
    "                    W2 -- Weight matrix of shape (output_size, hidden_size)\n",
    "                    b2 -- Bias vector of shape (output_size, 1)\n",
    "    \n",
    "    Returns:\n",
    "    A2 -- The sigmoid output of the second layer with shape (1, m)\n",
    "    cache -- A dictionary containing the intermediate results required for backpropagation:\n",
    "                Z1 -- The weighted sum of the first layer\n",
    "                A1 -- The activation of the first layer (ReLU)\n",
    "                Z2 -- The weighted sum of the second layer\n",
    "                A2 -- The activation of the second layer (sigmoid)\n",
    "    \"\"\"\n",
    "    # Retrieve parameters from the dictionary\n",
    "    W1 = parameters[\"W1\"]\n",
    "    b1 = parameters[\"b1\"]\n",
    "    W2 = parameters[\"W2\"]\n",
    "    b2 = parameters[\"b2\"]\n",
    "    \n",
    "    # Forward propagation for layer 1 (ReLU activation)\n",
    "    Z1 = np.dot(W1, X) + b1\n",
    "    A1 = np.maximum(0, Z1)  # ReLU activation\n",
    "    \n",
    "    # Forward propagation for layer 2 (sigmoid activation)\n",
    "    Z2 = np.dot(W2, A1) + b2\n",
    "    A2 = 1 / (1 + np.exp(-Z2))  # Sigmoid activation\n",
    "    \n",
    "    # Store intermediate results in a cache\n",
    "    cache = {\n",
    "        \"Z1\": Z1,\n",
    "        \"A1\": A1,\n",
    "        \"Z2\": Z2,\n",
    "        \"A2\": A2  # Store A2 in the cache\n",
    "    }\n",
    "    \n",
    "    return A2, cache"
   ]
  },
  {
   "cell_type": "markdown",
   "metadata": {},
   "source": [
    "# Cross Function - Cross Entropy"
   ]
  },
  {
   "cell_type": "code",
   "execution_count": 8,
   "metadata": {},
   "outputs": [],
   "source": [
    "import numpy as np\n",
    "\n",
    "def compute_cost(Y, Y_pred):\n",
    "    \"\"\"\n",
    "    Compute the cross-entropy cost for binary classification.\n",
    "    \n",
    "    Arguments:\n",
    "    Y -- True labels (ground truth), shape (1, m)\n",
    "    Y_pred -- Predicted probabilities, shape (1, m)\n",
    "    \n",
    "    Returns:\n",
    "    cost -- Cross-entropy cost\n",
    "    \"\"\"\n",
    "    m = Y.shape[1]  # Number of examples\n",
    "\n",
    "    # Compute the cross-entropy cost\n",
    "    cost = -np.sum(Y * np.log(Y_pred) + (1 - Y) * np.log(1 - Y_pred)) / m\n",
    "    \n",
    "    # Ensure the cost is a scalar value (not a NumPy array)\n",
    "    cost = np.squeeze(cost)\n",
    "    \n",
    "    return cost\n"
   ]
  },
  {
   "cell_type": "markdown",
   "metadata": {},
   "source": [
    "## Backward Pass"
   ]
  },
  {
   "cell_type": "code",
   "execution_count": 9,
   "metadata": {},
   "outputs": [],
   "source": [
    "import numpy as np\n",
    "\n",
    "def backward_pass(X, Y, cache, parameters):\n",
    "    \"\"\"\n",
    "    Perform the backward pass to compute gradients of all parameters.\n",
    "\n",
    "    Arguments:\n",
    "    X -- Input data of shape (input_size, m)\n",
    "    Y -- True labels (ground truth) of shape (1, m)\n",
    "    cache -- A dictionary containing the intermediate results from the forward pass\n",
    "    parameters -- A dictionary containing the parameters:\n",
    "                    W1 -- Weight matrix of shape (hidden_size, input_size)\n",
    "                    b1 -- Bias vector of shape (hidden_size, 1)\n",
    "                    W2 -- Weight matrix of shape (output_size, hidden_size)\n",
    "                    b2 -- Bias vector of shape (output_size, 1)\n",
    "\n",
    "    Returns:\n",
    "    grads -- A dictionary containing the gradients of all parameters:\n",
    "                dW1 -- Gradient of W1\n",
    "                db1 -- Gradient of b1\n",
    "                dW2 -- Gradient of W2\n",
    "                db2 -- Gradient of b2\n",
    "    \"\"\"\n",
    "    m = X.shape[1]  # Number of examples\n",
    "\n",
    "    # Retrieve intermediate results from the cache\n",
    "    Z1 = cache[\"Z1\"]\n",
    "    A1 = cache[\"A1\"]\n",
    "    Z2 = cache[\"Z2\"]\n",
    "    A2 = cache[\"A2\"]\n",
    "\n",
    "    # Compute the gradient of the cost with respect to A2\n",
    "    dA2 = - (Y / A2 - (1 - Y) / (1 - A2))\n",
    "\n",
    "    # Backpropagate through layer 2 (sigmoid activation)\n",
    "    dZ2 = dA2 * A2 * (1 - A2)\n",
    "    dW2 = np.dot(dZ2, A1.T) / m\n",
    "    db2 = np.sum(dZ2, axis=1, keepdims=True) / m\n",
    "\n",
    "    # Backpropagate through layer 1 (ReLU activation)\n",
    "    dA1 = np.dot(parameters[\"W2\"].T, dZ2)\n",
    "    dZ1 = dA1 * (A1 > 0)\n",
    "    dW1 = np.dot(dZ1, X.T) / m\n",
    "    db1 = np.sum(dZ1, axis=1, keepdims=True) / m\n",
    "\n",
    "    # Store gradients in a dictionary\n",
    "    grads = {\n",
    "        \"dW1\": dW1,\n",
    "        \"db1\": db1,\n",
    "        \"dW2\": dW2,\n",
    "        \"db2\": db2\n",
    "    }\n",
    "\n",
    "    return grads\n"
   ]
  },
  {
   "cell_type": "markdown",
   "metadata": {},
   "source": [
    "## Fit"
   ]
  },
  {
   "cell_type": "code",
   "execution_count": 47,
   "metadata": {},
   "outputs": [],
   "source": [
    "def fit(X_train, Y_train, X_test, Y_test, input_size, hidden_size, output_size, learning_rate, num_epochs):\n",
    "    \"\"\"\n",
    "    Train a two-layer neural network using gradient descent and calculate training and testing errors.\n",
    "\n",
    "    Arguments:\n",
    "    X_train -- Training input data of shape (input_size, m_train)\n",
    "    Y_train -- Training true labels (ground truth) of shape (1, m_train)\n",
    "    X_test -- Testing input data of shape (input_size, m_test)\n",
    "    Y_test -- Testing true labels (ground truth) of shape (1, m_test)\n",
    "    input_size -- Number of input features\n",
    "    hidden_size -- Number of hidden units in layer 1\n",
    "    output_size -- Number of output units in layer 2\n",
    "    learning_rate -- Learning rate for gradient descent\n",
    "    num_epochs -- Number of training epochs\n",
    "\n",
    "    Returns:\n",
    "    parameters -- A dictionary containing the trained parameters (weights and biases)\n",
    "    train_costs -- List of training cost values at each epoch\n",
    "    test_costs -- List of testing cost values at each epoch\n",
    "    \"\"\"\n",
    "    # Initialize parameters\n",
    "    parameters = initialize_parameters(input_size, hidden_size, output_size)\n",
    "\n",
    "    # Initialize lists to store cost values at each epoch\n",
    "    train_costs = []\n",
    "    test_costs = []\n",
    "\n",
    "    for epoch in range(num_epochs):\n",
    "        # Training forward pass to compute predictions and intermediate results\n",
    "        train_predictions, train_cache = forward_pass(X_train, parameters)\n",
    "\n",
    "        # Compute training cost\n",
    "        train_cost = compute_cost(Y_train, train_predictions)\n",
    "\n",
    "        # Backward pass for training data to compute gradients\n",
    "        train_grads = backward_pass(X_train, Y_train, train_cache, parameters)\n",
    "\n",
    "        # Update parameters for training data using gradient descent\n",
    "        parameters[\"W1\"] -= learning_rate * train_grads[\"dW1\"]\n",
    "        parameters[\"b1\"] -= learning_rate * train_grads[\"db1\"]\n",
    "        parameters[\"W2\"] -= learning_rate * train_grads[\"dW2\"]\n",
    "        parameters[\"b2\"] -= learning_rate * train_grads[\"db2\"]\n",
    "\n",
    "        # Testing forward pass to compute predictions and intermediate results\n",
    "        test_predictions, _ = forward_pass(X_test, parameters)\n",
    "\n",
    "        # Compute testing cost\n",
    "        test_cost = compute_cost(Y_test, test_predictions)\n",
    "\n",
    "        # Append the training and testing costs to their respective lists\n",
    "        train_costs.append(train_cost)\n",
    "        test_costs.append(test_cost)\n",
    "\n",
    "        # Print the cost for every 100 epochs (optional)\n",
    "        if epoch % 100 == 0:\n",
    "            print(f\"Epoch {epoch}: Training Cost = {train_cost}, Testing Cost = {test_cost}\")\n",
    "\n",
    "    return parameters, train_costs, test_costs\n"
   ]
  },
  {
   "cell_type": "markdown",
   "metadata": {},
   "source": [
    "## Driver"
   ]
  },
  {
   "cell_type": "code",
   "execution_count": 55,
   "metadata": {},
   "outputs": [
    {
     "name": "stdout",
     "output_type": "stream",
     "text": [
      "Independent Values;\n",
      "['male', 'age', 'education', 'currentSmoker', 'cigsPerDay', 'BPMeds', 'prevalentStroke', 'prevalentHyp', 'diabetes', 'totChol', 'sysBP', 'diaBP', 'BMI', 'heartRate', 'glucose']\n",
      "dependent Values;\n",
      "TenYearCHD\n"
     ]
    }
   ],
   "source": [
    "csv_file = 'dataset/Heart_Disease.csv'\n",
    "X, Y = load_data(csv_file)"
   ]
  },
  {
   "cell_type": "code",
   "execution_count": 56,
   "metadata": {},
   "outputs": [],
   "source": [
    "X_train, X_test, Y_train, Y_test = split_data(X, Y, test_size=0.3, random_state=42)"
   ]
  },
  {
   "cell_type": "code",
   "execution_count": 67,
   "metadata": {},
   "outputs": [],
   "source": [
    "N_x = 15  # Number of input features\n",
    "N_h = 20 # Number of hidden units in layer 1\n",
    "N_y = 2  # Number of output units in layer 2\n",
    "lr = 0.0001\n",
    "epochs = 1000"
   ]
  },
  {
   "cell_type": "code",
   "execution_count": 68,
   "metadata": {},
   "outputs": [
    {
     "name": "stdout",
     "output_type": "stream",
     "text": [
      "Epoch 0: Training Cost = 1.3577075340845104, Testing Cost = 1.3510269372226134\n",
      "Epoch 100: Training Cost = 0.9578016659869815, Testing Cost = 0.9500658734128805\n",
      "Epoch 200: Training Cost = 0.8897116521673942, Testing Cost = 0.8796491388033176\n",
      "Epoch 300: Training Cost = 0.8871695583281062, Testing Cost = 0.8764462058076953\n",
      "Epoch 400: Training Cost = 0.8867336838763153, Testing Cost = 0.875994590842423\n",
      "Epoch 500: Training Cost = 0.8863713586261306, Testing Cost = 0.8757663230456247\n",
      "Epoch 600: Training Cost = 0.8860618547897218, Testing Cost = 0.8755777106323166\n",
      "Epoch 700: Training Cost = 0.8857590979958987, Testing Cost = 0.8753952257999631\n",
      "Epoch 800: Training Cost = 0.8854560504454411, Testing Cost = 0.8752192433666056\n",
      "Epoch 900: Training Cost = 0.8851550962155134, Testing Cost = 0.8750428385391035\n"
     ]
    }
   ],
   "source": [
    "params, train_cost, test_cost = fit(\n",
    "    X_train = X_train.T,\n",
    "    Y_train = Y_train.reshape(1,-1),\n",
    "    X_test = X_test.T,\n",
    "    Y_test = Y_test.reshape(1,-1),\n",
    "    input_size = N_x,\n",
    "    hidden_size = N_h,\n",
    "    output_size = N_y,\n",
    "    learning_rate = lr,\n",
    "    num_epochs = epochs\n",
    ")"
   ]
  },
  {
   "cell_type": "code",
   "execution_count": 69,
   "metadata": {},
   "outputs": [
    {
     "data": {
      "image/png": "[encoded data removed]",
      "text/plain": [
       "<Figure size 432x288 with 1 Axes>"
      ]
     },
     "metadata": {
      "needs_background": "light"
     },
     "output_type": "display_data"
    }
   ],
   "source": [
    "import matplotlib.pyplot as plt\n",
    "\n",
    "# Create an array of epoch numbers for the x-axis\n",
    "\n",
    "_epochs = range(len(train_cost))\n",
    "\n",
    "# Plot training and testing costs\n",
    "plt.plot(_epochs, train_cost, label='Training Cost', linewidth=2)\n",
    "plt.plot(_epochs, test_cost, label='Testing Cost', linewidth=2)\n",
    "\n",
    "# Add labels and legend\n",
    "plt.xlabel('Epochs')\n",
    "plt.ylabel('Cost')\n",
    "plt.legend()\n",
    "\n",
    "plt.savefig(f\"plots/hidden_units:{N_h},lr:{lr}, epochs:{epochs}.png\")\n",
    "\n",
    "# Show the plot\n",
    "plt.show()\n"
   ]
  },
  {
   "cell_type": "code",
   "execution_count": 70,
   "metadata": {},
   "outputs": [
    {
     "data": {
      "text/plain": [
       "dict"
      ]
     },
     "execution_count": 70,
     "metadata": {},
     "output_type": "execute_result"
    }
   ],
   "source": [
    "type(params)"
   ]
  },
  {
   "cell_type": "markdown",
   "metadata": {},
   "source": [
    "## Save Model"
   ]
  },
  {
   "cell_type": "code",
   "execution_count": 71,
   "metadata": {},
   "outputs": [
    {
     "name": "stdout",
     "output_type": "stream",
     "text": [
      "Trained parameters saved as Stroke_Prediction_2_layer_NN.pkl\n"
     ]
    }
   ],
   "source": [
    "import pickle\n",
    "\n",
    "# Define the filename for the pickle file\n",
    "params_filename = 'Stroke_Prediction_2_layer_NN.pkl'\n",
    "\n",
    "# Save the 'params' dictionary as a pickle file\n",
    "with open(params_filename, 'wb') as file:\n",
    "    pickle.dump(params, file)\n",
    "\n",
    "print(f'Trained parameters saved as {params_filename}')\n"
   ]
  },
  {
   "cell_type": "markdown",
   "metadata": {},
   "source": [
    "## Load Model"
   ]
  },
  {
   "cell_type": "code",
   "execution_count": 72,
   "metadata": {},
   "outputs": [],
   "source": [
    "import pickle\n",
    "\n",
    "# Define the filename for the pickle file\n",
    "params_filename = 'Stroke_Prediction_2_layer_NN.pkl'\n",
    "\n",
    "# Load the parameters from the pickle file\n",
    "with open(params_filename, 'rb') as file:\n",
    "    loaded_params = pickle.load(file)\n"
   ]
  },
  {
   "cell_type": "markdown",
   "metadata": {},
   "source": [
    "## Prediction "
   ]
  },
  {
   "cell_type": "code",
   "execution_count": 73,
   "metadata": {},
   "outputs": [],
   "source": [
    "import numpy as np\n",
    "\n",
    "def predict(parameters, X):\n",
    "    \"\"\"\n",
    "    Make predictions using the trained neural network.\n",
    "\n",
    "    Arguments:\n",
    "    parameters -- A dictionary containing the trained parameters (weights and biases)\n",
    "    X -- Input data of shape (input_size, m)\n",
    "\n",
    "    Returns:\n",
    "    predictions -- Predicted output of shape (1, m)\n",
    "    \"\"\"\n",
    "    # Retrieve the parameters from the dictionary\n",
    "    W1 = parameters[\"W1\"]\n",
    "    b1 = parameters[\"b1\"]\n",
    "    W2 = parameters[\"W2\"]\n",
    "    b2 = parameters[\"b2\"]\n",
    "\n",
    "    # Perform the forward pass to compute predictions\n",
    "    Z1 = np.dot(W1, X) + b1\n",
    "    A1 = np.maximum(0, Z1)  # ReLU activation\n",
    "    Z2 = np.dot(W2, A1) + b2\n",
    "    predictions = 1 / (1 + np.exp(-Z2))  # Sigmoid activation\n",
    "\n",
    "    return predictions\n"
   ]
  },
  {
   "cell_type": "code",
   "execution_count": 88,
   "metadata": {},
   "outputs": [
    {
     "name": "stdout",
     "output_type": "stream",
     "text": [
      "[[0]\n",
      " [0]]\n"
     ]
    }
   ],
   "source": [
    "# Input vector for prediction (shape: (input_size, m))\n",
    "input_vector = np.array([0, 63, 1, 0, 0, 0, 0, 0, 0, 205, 138, 71, 33.11, 60, 85]).reshape(-1, 1)\n",
    "\n",
    "# Make predictions using the loaded parameters\n",
    "predictions = predict(loaded_params, input_vector)\n",
    "\n",
    "# Define a threshold (e.g., 0.5)\n",
    "threshold = 0.5\n",
    "\n",
    "# Convert predictions to binary (0 or 1) based on the threshold\n",
    "binary_predictions = (predictions >= threshold).astype(int)\n",
    "\n",
    "print(binary_predictions)\n"
   ]
  },
  {
   "cell_type": "markdown",
   "metadata": {},
   "source": [
    "## Push to Hub"
   ]
  },
  {
   "cell_type": "code",
   "execution_count": 90,
   "metadata": {},
   "outputs": [
    {
     "data": {
      "application/vnd.jupyter.widget-view+json": {
       "model_id": "c82c4f50c58b45b2bacee999af6f1393",
       "version_major": 2,
       "version_minor": 0
      },
      "text/plain": [
       "Upload 1 LFS files:   0%|          | 0/1 [00:00<?, ?it/s]"
      ]
     },
     "metadata": {},
     "output_type": "display_data"
    },
    {
     "data": {
      "application/vnd.jupyter.widget-view+json": {
       "model_id": "a182be98eecd4cd094afaaa0a65a4061",
       "version_major": 2,
       "version_minor": 0
      },
      "text/plain": [
       "Stroke_Prediction_2_layer_NN.pkl:   0%|          | 0.00/3.17k [00:00<?, ?B/s]"
      ]
     },
     "metadata": {},
     "output_type": "display_data"
    },
    {
     "data": {
      "text/plain": [
       "'https://huggingface.co/sharoz/Stroke_Prediction_2_layer_NN/blob/main/model.pkl'"
      ]
     },
     "execution_count": 90,
     "metadata": {},
     "output_type": "execute_result"
    }
   ],
   "source": [
    "from huggingface_hub import HfApi\n",
    "api = HfApi()\n",
    "api.upload_file(\n",
    "    path_or_fileobj=\"Stroke_Prediction_2_layer_NN.pkl\",\n",
    "    path_in_repo=\"model.pkl\",\n",
    "    repo_id=\"sharoz/Stroke_Prediction_2_layer_NN\",\n",
    "    repo_type=\"model\",\n",
    ")"
   ]
  },
  {
   "cell_type": "code",
   "execution_count": null,
   "metadata": {},
   "outputs": [],
   "source": []
  }
 ],
 "metadata": {
  "kernelspec": {
   "display_name": "base",
   "language": "python",
   "name": "python3"
  },
  "language_info": {
   "codemirror_mode": {
    "name": "ipython",
    "version": 3
   },
   "file_extension": ".py",
   "mimetype": "text/x-python",
   "name": "python",
   "nbconvert_exporter": "python",
   "pygments_lexer": "ipython3",
   "version": "3.9.12"
  },
  "orig_nbformat": 4
 },
 "nbformat": 4,
 "nbformat_minor": 2
}
